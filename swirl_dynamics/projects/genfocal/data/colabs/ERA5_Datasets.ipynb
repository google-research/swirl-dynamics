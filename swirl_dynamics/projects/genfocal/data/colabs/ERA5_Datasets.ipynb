{
  "cells": [
    {
      "metadata": {
        "id": "n83wkucOnlzn"
      },
      "cell_type": "markdown",
      "source": [
        "# ERA5 Datasets\n",
        "\n",
        "In this colab, we will describe the ERA5 datasets associated with the GenFocal \n",
        "paper and present examples of how to load and visualize each dataset.  These\n",
        "datasets have been sampled to match the LENS2 grid.  \n",
        "\n",
        "\n"
      ]
    },
    {
      "metadata": {
        "id": "q3E3qZMaoGiX"
      },
      "cell_type": "markdown",
      "source": [
        "First, we need to install some packages so we can access the datasets in Google Cloud and visualize them."
      ]
    },
    {
      "metadata": {
        "cellView": "form",
        "id": "yjgBeGy2EmN6"
      },
      "cell_type": "code",
      "source": [
        "# @title\n",
        "!pip install -q zarr xarray[complete] fsspec aiohttp requests gcsfs cartopy \\\n",
        "  cfgrib eccodes cf_xarray pint_xarray\n"
      ],
      "outputs": [],
      "execution_count": null
    },
    {
      "metadata": {
        "cellView": "form",
        "id": "MzGRFonJEQIl"
      },
      "cell_type": "code",
      "source": [
        "# @title Imports\n",
        "import h5py\n",
        "import gcsfs\n",
        "import matplotlib.pyplot as plt\n",
        "from google.colab import auth\n",
        "from google.cloud import storage\n",
        "\n",
        "from datetime import datetime\n",
        "import pandas as pd\n",
        "import numpy as np\n",
        "from cartopy import config\n",
        "import matplotlib.pyplot as plt\n",
        "import cartopy.crs as ccrs\n",
        "import cartopy.feature as cfeature\n",
        "import xarray as xr\n",
        "import cf_xarray.units\n",
        "import pint_xarray\n"
      ],
      "outputs": [],
      "execution_count": null
    },
    {
      "metadata": {
        "cellView": "form",
        "id": "O3eP5xWsK2i6"
      },
      "cell_type": "code",
      "source": [
        "# @title Plotting Functions\n",
        "\n",
        "def plot_scalar(temp_data1, lat_min, lat_max, lon_min, lon_max):\n",
        "    \"\"\"\n",
        "    Plots two scalar arrays on the same plot with a shared colorbar.\n",
        "\n",
        "    Args:\n",
        "        temp_data1: xarray DataArray of the first temperature data.\n",
        "        temp_data2: xarray DataArray of the second temperature data.\n",
        "        lat_min: Minimum latitude for the plot.\n",
        "        lat_max: Maximum latitude for the plot.\n",
        "        lon_min: Minimum longitude for the plot.\n",
        "        lon_max: Maximum longitude for the plot.\n",
        "    \"\"\"\n",
        "\n",
        "    fig, axs = plt.subplots(nrows=1, ncols=1,\n",
        "                            subplot_kw={'projection': ccrs.PlateCarree()},\n",
        "                            figsize=(12, 6))\n",
        "\n",
        "    vmin = temp_data1.min()\n",
        "    vmax = temp_data1.max()\n",
        "\n",
        "    # Plot the temperature data\n",
        "    im1 = temp_data1.plot(\n",
        "        ax=axs, transform=ccrs.PlateCarree(), add_colorbar=False,\n",
        "           x='longitude', y='latitude',\n",
        "           vmin=vmin, vmax=vmax,\n",
        "           cmap='viridis'\n",
        "    )\n",
        "\n",
        "    # Add coastlines and gridlines\n",
        "    axs.coastlines()\n",
        "    axs.add_feature(cfeature.BORDERS)\n",
        "    # Set plot extent\n",
        "    axs.set_extent([lon_min, lon_max, lat_min, lat_max], crs=ccrs.PlateCarree())\n",
        "    cbar = plt.colorbar(im1, ax=axs, shrink=0.7)  # Use im1 for the colorbar\n",
        "    cbar.set_label('Temperature (K)')\n",
        "\n",
        "    plt.show()\n"
      ],
      "outputs": [],
      "execution_count": null
    },
    {
      "metadata": {
        "id": "1iuDdqoMosHt"
      },
      "cell_type": "markdown",
      "source": [
        "We now need to authenticate with Google Cloud so we can access the GenFocal bucket"
      ]
    },
    {
      "metadata": {
        "id": "19c7S0zEEUcq"
      },
      "cell_type": "code",
      "source": [
        "auth.authenticate_user()"
      ],
      "outputs": [],
      "execution_count": null
    },
    {
      "metadata": {
        "id": "H4ELl4Tmsvrg"
      },
      "cell_type": "markdown",
      "source": [
        "## ERA5 Datasets\n",
        "We include the copy of the ERA5 dataset used to train the lens2 model (era5_1980_2020_dataset),\n",
        "and a small subset  (era5_2010_2011_dataset) for demonstration purposes."
      ]
    },
    {
      "metadata": {
        "id": "0Z4OmUlnrLnj"
      },
      "cell_type": "code",
      "source": [
        "era5_1980_2020_dataset = xr.open_zarr(\n",
        "            \"gs://genfocal/data/era5/era5_240x121_lonlat_1980-2020_10_vars.zarr\",\n",
        "            consolidated=True\n",
        ")\n",
        "\n",
        "era5_1980_2020_dataset"
      ],
      "outputs": [],
      "execution_count": null
    },
    {
      "metadata": {
        "id": "UOMIHClxrRpZ"
      },
      "cell_type": "code",
      "source": [
        "era5_2010_2011_dataset = xr.open_zarr(\n",
        "            \"gs://genfocal/data/era5/era5_240x121_lonlat_2010-2011_10_vars.zarr\",\n",
        "            consolidated=True\n",
        ")\n",
        "\n",
        "era5_2010_2011_dataset"
      ],
      "outputs": [],
      "execution_count": null
    },
    {
      "metadata": {
        "id": "PEzjcUHXsyud"
      },
      "cell_type": "code",
      "source": [
        "# @title Example Plot\n",
        "surface_variable_name = \"2m_temperature\" # @param [\"2m_temperature\",\"geopotential\",\"mean_sea_level_pressure\"]\n",
        "date = \"2015-08-01\" # @param {type:\"date\"}\n",
        "time_slice=slice(date, date)\n",
        "\n",
        "scalar_array_daily = era5_1980_2020_dataset[surface_variable_name].sel(time=time_slice).squeeze().compute()\n",
        "era5_lat = era5_2010_2011_dataset.latitude\n",
        "era5_lon = era5_2010_2011_dataset.longitude\n",
        "plot_scalar(scalar_array_daily, era5_lat.min(), era5_lat.max(),\n",
        "             era5_lon.min(), era5_lon.max())\n"
      ],
      "outputs": [],
      "execution_count": null
    }
  ],
  "metadata": {
    "colab": {
      "private_outputs": true,
      "provenance": [
        {
          "file_id": "1dfWI_r3Akk9DEYHBxWbIDAu-b3TTA6Qr",
          "timestamp": 1750811119599
        },
        {
          "file_id": "1clg9x7UPCYdjEN99isLJyLuakTmcGVf0",
          "timestamp": 1750808977447
        },
        {
          "file_id": "1MRXbxV9vZ3HqYU7Rv9_YKj113PJ-SZZ5",
          "timestamp": 1750194762919
        }
      ]
    },
    "kernelspec": {
      "display_name": "Python 3",
      "name": "python3"
    },
    "language_info": {
      "name": "python"
    }
  },
  "nbformat": 4,
  "nbformat_minor": 0
}
