{
  "cells": [
    {
      "cell_type": "markdown",
      "metadata": {
        "id": "n83wkucOnlzn"
      },
      "source": [
        "# Inference NAO\n",
        "\n",
        "In this colab, we will describe the GenFocal debiased and downscaled forecasts for the North Atlantic Ocean (NAO) hurricane basin for the months of August, September, and October for 2010-2019.  These datasets\n",
        "contain the following variables\n",
        " - 10mW, wind speed at 10 meters (m/s)\n",
        " - 2mT, temperature at 2 meters (K)\n",
        " - MSL, mean sea-level pressure (Pa)\n",
        " - Q1000, near-surface specific humidity (kg/kg)\n",
        " - Z200, geopotential at 200 hPa (m)\n",
        " - Z500, geopotential at 500 hPa (m)"
      ]
    },
    {
      "cell_type": "code",
      "execution_count": null,
      "metadata": {
        "cellView": "form",
        "id": "yjgBeGy2EmN6"
      },
      "outputs": [],
      "source": [
        "# @title PIP Installs\n",
        "!pip install -q zarr xarray[complete] fsspec aiohttp requests gcsfs cartopy \\\n",
        "  cfgrib eccodes cf_xarray pint_xarray\n"
      ]
    },
    {
      "cell_type": "code",
      "execution_count": null,
      "metadata": {
        "cellView": "form",
        "id": "MzGRFonJEQIl"
      },
      "outputs": [],
      "source": [
        "# @title Imports\n",
        "import h5py\n",
        "import gcsfs\n",
        "import matplotlib.pyplot as plt\n",
        "from google.colab import auth\n",
        "from google.cloud import storage\n",
        "from datetime import datetime\n",
        "import pandas as pd\n",
        "import numpy as np\n",
        "from cartopy import config\n",
        "import matplotlib.pyplot as plt\n",
        "import cartopy.crs as ccrs\n",
        "import cartopy.feature as cfeature\n",
        "import xarray as xr\n",
        "import cf_xarray.units\n",
        "import pint_xarray\n"
      ]
    },
    {
      "cell_type": "code",
      "execution_count": null,
      "metadata": {
        "cellView": "form",
        "id": "O3eP5xWsK2i6"
      },
      "outputs": [],
      "source": [
        "# @title Plotting Functions\n",
        "\n",
        "def plot_scalars(temp_data1, temp_data2, lat_min, lat_max, lon_min, lon_max):\n",
        "    \"\"\"\n",
        "    Plots two scalar arrays on the same plot with a shared colorbar.\n",
        "\n",
        "    Args:\n",
        "        temp_data1: xarray DataArray of the first temperature data.\n",
        "        temp_data2: xarray DataArray of the second temperature data.\n",
        "        lat_min: Minimum latitude for the plot.\n",
        "        lat_max: Maximum latitude for the plot.\n",
        "        lon_min: Minimum longitude for the plot.\n",
        "        lon_max: Maximum longitude for the plot.\n",
        "    \"\"\"\n",
        "\n",
        "    fig, axs = plt.subplots(nrows=1, ncols=2,\n",
        "                            subplot_kw={'projection': ccrs.PlateCarree()},\n",
        "                            figsize=(12, 6))\n",
        "\n",
        "    # Combine data for shared colorbar limits\n",
        "    vmin = min(temp_data1.min(), temp_data2.min())\n",
        "    vmax = max(temp_data1.max(), temp_data2.max())\n",
        "\n",
        "    # Plot the first temperature data\n",
        "    im1 = temp_data1.plot(\n",
        "        ax=axs[0], transform=ccrs.PlateCarree(), add_colorbar=False,\n",
        "           x='longitude', y='latitude',\n",
        "           vmin=vmin, vmax=vmax,\n",
        "           cmap='viridis'\n",
        "    )\n",
        "\n",
        "    # Overlay the second temperature data\n",
        "    im2 = temp_data2.plot(\n",
        "        ax=axs[1], transform=ccrs.PlateCarree(), add_colorbar=False,\n",
        "           x='longitude', y='latitude',\n",
        "           vmin=vmin, vmax=vmax,\n",
        "           cmap='viridis'\n",
        "    )\n",
        "\n",
        "\n",
        "    # Add coastlines and gridlines\n",
        "    for ax in axs:\n",
        "      ax.coastlines()\n",
        "      ax.add_feature(cfeature.BORDERS)\n",
        "      ax.add_feature(cfeature.RIVERS)\n",
        "      # Set plot extent\n",
        "      ax.set_extent([lon_min, lon_max, lat_min, lat_max], crs=ccrs.PlateCarree())\n",
        "      cbar = plt.colorbar(im1, ax=ax, shrink=0.7)  # Use im1 for the colorbar\n",
        "      cbar.set_label('Temperature (K)')\n",
        "\n",
        "    plt.show()\n",
        "\n",
        "def plot_scalar(temp_data1, lat_min, lat_max, lon_min, lon_max, title_string=\"\"):\n",
        "    \"\"\"\n",
        "    Plots two scalar arrays on the same plot with a shared colorbar.\n",
        "\n",
        "    Args:\n",
        "        temp_data1: xarray DataArray of the first temperature data.\n",
        "        temp_data2: xarray DataArray of the second temperature data.\n",
        "        lat_min: Minimum latitude for the plot.\n",
        "        lat_max: Maximum latitude for the plot.\n",
        "        lon_min: Minimum longitude for the plot.\n",
        "        lon_max: Maximum longitude for the plot.\n",
        "    \"\"\"\n",
        "\n",
        "    fig, axs = plt.subplots(nrows=1, ncols=1,\n",
        "                            subplot_kw={'projection': ccrs.PlateCarree()},\n",
        "                            figsize=(12, 6))\n",
        "\n",
        "    vmin = temp_data1.min()\n",
        "    vmax = temp_data1.max()\n",
        "\n",
        "    # Plot the temperature data\n",
        "    im1 = temp_data1.plot(\n",
        "        ax=axs, transform=ccrs.PlateCarree(), add_colorbar=False,\n",
        "           x='longitude', y='latitude',\n",
        "           vmin=vmin, vmax=vmax,\n",
        "           cmap='viridis'\n",
        "    )\n",
        "\n",
        "    # Add coastlines and gridlines\n",
        "    axs.coastlines()\n",
        "    axs.add_feature(cfeature.BORDERS)\n",
        "    axs.add_feature(cfeature.STATES)\n",
        "    # Set plot extent\n",
        "    axs.set_extent([lon_min, lon_max, lat_min, lat_max], crs=ccrs.PlateCarree())\n",
        "    cbar = plt.colorbar(im1, ax=axs, shrink=0.7)  # Use im1 for the colorbar\n",
        "    cbar.set_label('Temperature (K)')\n",
        "    plt.title(title_string)\n",
        "\n",
        "    plt.show()\n"
      ]
    },
    {
      "cell_type": "markdown",
      "metadata": {
        "id": "1iuDdqoMosHt"
      },
      "source": [
        "We now need to authenticate with Google Cloud so we can access the GenFocal bucket"
      ]
    },
    {
      "cell_type": "code",
      "execution_count": null,
      "metadata": {
        "id": "19c7S0zEEUcq"
      },
      "outputs": [],
      "source": [
        "auth.authenticate_user()"
      ]
    },
    {
      "cell_type": "markdown",
      "metadata": {
        "id": "ibT2ZbsKZVRV"
      },
      "source": [
        "# Insert Text"
      ]
    },
    {
      "cell_type": "code",
      "execution_count": null,
      "metadata": {
        "id": "LMEp-9RSWw2h"
      },
      "outputs": [],
      "source": [
        "inference_nao = xr.open_zarr(\n",
        "            \"gs://genfocal/data/inference/nao/debiased_100members_aso10s_8samples_xm155030721_member_chunks.zarr\",\n",
        "            consolidated=True)\n",
        "inference_nao"
      ]
    },
    {
      "cell_type": "code",
      "execution_count": null,
      "metadata": {
        "id": "snSoXWtDCxsH"
      },
      "outputs": [],
      "source": [
        "# @title Plot an individual ensemble member\n",
        "surface_variable_name = \"10mW\" # @param dropdown [\"MSL\", \"10mW\"]\n",
        "ensemble_member = 0 # @param {type:\"integer\"}\n",
        "date = \"2015-09-01\" # @param {type:\"date\"}\n",
        "hour = 0 # @param {type:\"integer\")\n",
        "if (hour \u003c0) :\n",
        "  hour = 0\n",
        "if (hour \u003e=22) :\n",
        "  hour = 22\n",
        "\n",
        "latgrid = inference_nao.latitude\n",
        "longrid = inference_nao.longitude\n",
        "\n",
        "title_string = f\"{surface_variable_name} for {date} member {ensemble_member}\"\n",
        "time_slice=slice(f\"{date} T{hour:02d}\", f\"{date} T{hour:02d}\")\n",
        "scalar_array_daily_member = inference_nao[surface_variable_name].sel(time=time_slice).sel(member=ensemble_member).squeeze().compute()\n",
        "plot_scalar(scalar_array_daily_member, latgrid.min(), latgrid.max(),\n",
        "             longrid.min(), longrid.max(), title_string)"
      ]
    },
    {
      "cell_type": "code",
      "execution_count": null,
      "metadata": {
        "id": "B2Xkv5kiXhvm"
      },
      "outputs": [],
      "source": [
        "# @title Ensemble mean of daily minimum MSL pressure\n",
        "surface_variable_name = \"MSL\"\n",
        "date = \"2015-09-01\" # @param {type:\"date\"}\n",
        "time_slice=slice(f\"{date} T00\", f\"{date} T23\")\n",
        "\n",
        "scalar_array_daily = inference_nao[surface_variable_name].sel(time=time_slice).squeeze()\n",
        "latgrid = inference_nao.latitude\n",
        "longrid = inference_nao.longitude\n",
        "title_string = f\"Ensemble mean of daily minimum MSL pressure for {date}\"\n",
        "scalar_array_dailymn_mean = scalar_array_daily.min(dim='time').mean(dim='member').compute()\n",
        "plot_scalar(scalar_array_dailymn_mean, latgrid.min(), latgrid.max(),\n",
        "             longrid.min(), longrid.max(), title_string)\n"
      ]
    },
    {
      "cell_type": "code",
      "execution_count": null,
      "metadata": {
        "id": "T9Cnquodaj4y"
      },
      "outputs": [],
      "source": [
        "# @title Ensemble standard deviation of daily minimum MSL pressure\n",
        "scalar_array_daily_std = scalar_array_daily.min(dim='time').std(dim='member').compute()\n",
        "title_string = f\"Ensemble standard deviation of daily minimum MSL pressure for {date}\"\n",
        "plot_scalar(scalar_array_daily_std, latgrid.min(), latgrid.max(),\n",
        "             longrid.min(), longrid.max(), title_string)\n"
      ]
    }
  ],
  "metadata": {
    "colab": {
      "private_outputs": true,
      "provenance": [
        {
          "file_id": "1kCzb3C0C-he9nwGVN3TN6jEw5J7Wr260",
          "timestamp": 1751325600262
        },
        {
          "file_id": "1As-XG45HhyqKKm1aaMHfhjziaxl6nHyC",
          "timestamp": 1751092652450
        },
        {
          "file_id": "1clg9x7UPCYdjEN99isLJyLuakTmcGVf0",
          "timestamp": 1750827143166
        },
        {
          "file_id": "1MRXbxV9vZ3HqYU7Rv9_YKj113PJ-SZZ5",
          "timestamp": 1750194762919
        }
      ]
    },
    "kernelspec": {
      "display_name": "Python 3",
      "name": "python3"
    },
    "language_info": {
      "name": "python"
    }
  },
  "nbformat": 4,
  "nbformat_minor": 0
}
