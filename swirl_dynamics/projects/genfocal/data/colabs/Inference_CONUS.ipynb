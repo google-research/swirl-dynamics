{
  "cells": [
    {
      "metadata": {
        "id": "n83wkucOnlzn"
      },
      "cell_type": "markdown",
      "source": [
        "\n",
        "# Inference CONUS\n",
        "\n",
        "In this colab, we will describe the GenFocal debiased and downscaled forecasts for the continental United States (CONUS) for the months of June, July, and August for 2010-2019.  These datasets\n",
        "contain the following variables\n",
        " - 10mW, wind speed at 10 meters (m/s)\n",
        " - 2mT, temperature at 2 meters (K)\n",
        " - MSL, mean sea-level pressure (Pa)\n",
        " - Q1000, near-surface specific humidity (kg/kg)"
      ]
    },
    {
      "metadata": {
        "cellView": "form",
        "id": "yjgBeGy2EmN6"
      },
      "cell_type": "code",
      "source": [
        "# @title PIP Installs\n",
        "!pip install -q zarr xarray[complete] fsspec aiohttp requests gcsfs cartopy \\\n",
        "  cfgrib eccodes cf_xarray pint_xarray\n"
      ],
      "outputs": [],
      "execution_count": null
    },
    {
      "metadata": {
        "cellView": "form",
        "id": "MzGRFonJEQIl"
      },
      "cell_type": "code",
      "source": [
        "# @title Imports\n",
        "import h5py\n",
        "import gcsfs\n",
        "import matplotlib.pyplot as plt\n",
        "from google.colab import auth\n",
        "from google.cloud import storage\n",
        "from datetime import datetime\n",
        "import pandas as pd\n",
        "import numpy as np\n",
        "from cartopy import config\n",
        "import matplotlib.pyplot as plt\n",
        "import cartopy.crs as ccrs\n",
        "import cartopy.feature as cfeature\n",
        "import xarray as xr\n",
        "import cf_xarray.units\n",
        "import pint_xarray\n"
      ],
      "outputs": [],
      "execution_count": null
    },
    {
      "metadata": {
        "id": "O3eP5xWsK2i6"
      },
      "cell_type": "code",
      "source": [
        "# @title Plotting Functions\n",
        "\n",
        "def plot_scalars(temp_data1, temp_data2, lat_min, lat_max, lon_min, lon_max):\n",
        "    \"\"\"\n",
        "    Plots two scalar arrays on the same plot with a shared colorbar.\n",
        "\n",
        "    Args:\n",
        "        temp_data1: xarray DataArray of the first temperature data.\n",
        "        temp_data2: xarray DataArray of the second temperature data.\n",
        "        lat_min: Minimum latitude for the plot.\n",
        "        lat_max: Maximum latitude for the plot.\n",
        "        lon_min: Minimum longitude for the plot.\n",
        "        lon_max: Maximum longitude for the plot.\n",
        "    \"\"\"\n",
        "\n",
        "    fig, axs = plt.subplots(nrows=1, ncols=2,\n",
        "                            subplot_kw={'projection': ccrs.PlateCarree()},\n",
        "                            figsize=(12, 6))\n",
        "\n",
        "    # Combine data for shared colorbar limits\n",
        "    vmin = min(temp_data1.min(), temp_data2.min())\n",
        "    vmax = max(temp_data1.max(), temp_data2.max())\n",
        "\n",
        "    # Plot the first temperature data\n",
        "    im1 = temp_data1.plot(\n",
        "        ax=axs[0], transform=ccrs.PlateCarree(), add_colorbar=False,\n",
        "           x='longitude', y='latitude',\n",
        "           vmin=vmin, vmax=vmax,\n",
        "           cmap='viridis'\n",
        "    )\n",
        "\n",
        "    # Overlay the second temperature data\n",
        "    im2 = temp_data2.plot(\n",
        "        ax=axs[1], transform=ccrs.PlateCarree(), add_colorbar=False,\n",
        "           x='longitude', y='latitude',\n",
        "           vmin=vmin, vmax=vmax,\n",
        "           cmap='viridis'\n",
        "    )\n",
        "\n",
        "\n",
        "    # Add coastlines and gridlines\n",
        "    for ax in axs:\n",
        "      ax.coastlines()\n",
        "      ax.add_feature(cfeature.BORDERS)\n",
        "      ax.add_feature(cfeature.RIVERS)\n",
        "      # Set plot extent\n",
        "      ax.set_extent([lon_min, lon_max, lat_min, lat_max], crs=ccrs.PlateCarree())\n",
        "      cbar = plt.colorbar(im1, ax=ax, shrink=0.7)  # Use im1 for the colorbar\n",
        "      cbar.set_label('Temperature (K)')\n",
        "\n",
        "    plt.show()\n",
        "\n",
        "def plot_scalar(temp_data1, lat_min, lat_max, lon_min, lon_max, title_string=\"\"):\n",
        "    \"\"\"\n",
        "    Plots two scalar arrays on the same plot with a shared colorbar.\n",
        "\n",
        "    Args:\n",
        "        temp_data1: xarray DataArray of the first temperature data.\n",
        "        temp_data2: xarray DataArray of the second temperature data.\n",
        "        lat_min: Minimum latitude for the plot.\n",
        "        lat_max: Maximum latitude for the plot.\n",
        "        lon_min: Minimum longitude for the plot.\n",
        "        lon_max: Maximum longitude for the plot.\n",
        "    \"\"\"\n",
        "\n",
        "    fig, axs = plt.subplots(nrows=1, ncols=1,\n",
        "                            subplot_kw={'projection': ccrs.PlateCarree()},\n",
        "                            figsize=(12, 6))\n",
        "\n",
        "    vmin = temp_data1.min()\n",
        "    vmax = temp_data1.max()\n",
        "\n",
        "    # Plot the temperature data\n",
        "    im1 = temp_data1.plot(\n",
        "        ax=axs, transform=ccrs.PlateCarree(), add_colorbar=False,\n",
        "           x='longitude', y='latitude',\n",
        "           vmin=vmin, vmax=vmax,\n",
        "           cmap='viridis'\n",
        "    )\n",
        "\n",
        "    # Add coastlines and gridlines\n",
        "    axs.coastlines()\n",
        "    axs.add_feature(cfeature.BORDERS)\n",
        "    axs.add_feature(cfeature.STATES)\n",
        "    # Set plot extent\n",
        "    axs.set_extent([lon_min, lon_max, lat_min, lat_max], crs=ccrs.PlateCarree())\n",
        "    cbar = plt.colorbar(im1, ax=axs, shrink=0.7)  # Use im1 for the colorbar\n",
        "    cbar.set_label('Temperature (K)')\n",
        "    plt.title(f\"{title_string}\")\n",
        "\n",
        "    plt.show()\n"
      ],
      "outputs": [],
      "execution_count": null
    },
    {
      "metadata": {
        "id": "1iuDdqoMosHt"
      },
      "cell_type": "markdown",
      "source": [
        "We now need to authenticate with Google Cloud so we can access the GenFocal bucket"
      ]
    },
    {
      "metadata": {
        "id": "19c7S0zEEUcq"
      },
      "cell_type": "code",
      "source": [
        "auth.authenticate_user()"
      ],
      "outputs": [],
      "execution_count": null
    },
    {
      "metadata": {
        "id": "5RhGLvFv_6NB"
      },
      "cell_type": "markdown",
      "source": [
        "## Chunked by pixels\n",
        "First, we will look at the dataset chunked by pixel.  This chunking strategy\n",
        "collects all of the forecast timesteps and members for a given model grid location into one file.  This makes it easy to visualize long-time series."
      ]
    },
    {
      "metadata": {
        "id": "5i0OGNVssPN2"
      },
      "cell_type": "code",
      "source": [
        "inference_conus = xr.open_zarr(\n",
        "            \"gs://genfocal/staging/inference/conus/debiased_100members_jja10s_8samples_xm153999662_pixel_chunks.zarr\",\n",
        "            consolidated=True,\n",
        ")\n",
        "inference_conus"
      ],
      "outputs": [],
      "execution_count": null
    },
    {
      "metadata": {
        "id": "ZtTv72frAM3i"
      },
      "cell_type": "markdown",
      "source": [
        "## Chunked by member\n",
        "First, we will look at the dataset chunked by pixel.  This chunking strategy\n",
        "collects all of the grid points for a specific timestep and member\n",
        "combination into one file.  This makes it easy to plot maps of the individual forecasts.  "
      ]
    },
    {
      "metadata": {
        "id": "JWlauNOve1nx"
      },
      "cell_type": "code",
      "source": [
        "# @markdown Latitude of point (-90 -\u003e 90)\n",
        "latitude_pt = 32.7079 # @param {type:\"number\"}\n",
        "\n",
        "# @markdown Longitude of point (-180 -\u003e 180)\n",
        "longitude_pt = -96.9209 # @param {type:\"number\"}\n",
        "\n",
        "# @markdown First Day To Plot\n",
        "first_day = '2015-06-01' # @param {type:\"date\"}\n",
        "\n",
        "# @markdown Last Day To Plot\n",
        "last_day = '2015-08-31' # @param {type:\"date\"}\n",
        "\n",
        "\n",
        "print(f\"Latitude: {latitude_pt}\")\n",
        "print(f\"Longitude: {longitude_pt}\")\n",
        "time_slice = slice(first_day, last_day)\n",
        "\n",
        "\n",
        "inference_conus_pt = inference_conus.sel(time=time_slice).sel(latitude=latitude_pt, longitude=longitude_pt+360, method=\"nearest\")\n",
        "#era5_pt = era5_full.sel(time=time_slice).sel(latitude=latitude_pt, longitude=longitude_pt+360, method=\"nearest\")"
      ],
      "outputs": [],
      "execution_count": null
    },
    {
      "metadata": {
        "id": "IEhUxIOKA09e"
      },
      "cell_type": "markdown",
      "source": [
        "First, we will examine a plot of the mean and standard deviation of the forecast temperature.\n",
        "\n"
      ]
    },
    {
      "metadata": {
        "id": "LSJZe7vtff0U"
      },
      "cell_type": "code",
      "source": [
        "from math import inf\n",
        "plt.figure(figsize=(12, 6))\n",
        "\n",
        "mean_hourly_temp = inference_conus_pt.mean(dim='member')\n",
        "std_hourly_temp = inference_conus_pt.std(dim='member')\n",
        "inference_conus_pt['2mT'].sel(time=time_slice).mean(dim='member').plot(label='Mean')\n",
        "plt.fill_between(mean_hourly_temp['2mT'].time.values,\n",
        "                 (mean_hourly_temp['2mT'] - std_hourly_temp['2mT']).values,\n",
        "                 (mean_hourly_temp['2mT'] + std_hourly_temp['2mT']).values,\n",
        "                 color='blue', alpha=0.2, label='Std Deviation')\n",
        "\n",
        "plt.title(f'2m Temperature at Lat: {latitude_pt}, Lon: {longitude_pt}')\n",
        "plt.xlabel('Time')\n",
        "plt.ylabel('2m Temperature (K)')\n",
        "plt.legend()\n",
        "plt.grid(True)\n",
        "plt.show()"
      ],
      "outputs": [],
      "execution_count": null
    },
    {
      "metadata": {
        "id": "CofnO78vBJWw"
      },
      "cell_type": "markdown",
      "source": [
        "The diurnal cycle makes it hard to visualize the standard deviation/spread of the temperature forecasts, so we will reduce the data by examining the daily maximum/minimum temperatures."
      ]
    },
    {
      "metadata": {
        "id": "Qyj-inI_xyzp"
      },
      "cell_type": "code",
      "source": [
        "inference_conus_pt_dailymin = inference_conus_pt.resample(time='1D').min()\n",
        "inference_conus_pt_dailymax = inference_conus_pt.resample(time='1D').max()\n"
      ],
      "outputs": [],
      "execution_count": null
    },
    {
      "metadata": {
        "id": "O5raPsGjyeDz"
      },
      "cell_type": "code",
      "source": [
        "# @title Daily Maximum Temperature\n",
        "# Calculate the mean, std, 5th, and 95th percentiles of daily minimum\n",
        "mean_daily_min = inference_conus_pt_dailymax.mean(dim='member')\n",
        "std_daily_min = inference_conus_pt_dailymax.std(dim='member')\n",
        "percentile_5_daily_min = inference_conus_pt_dailymax.quantile(0.05, dim='member')\n",
        "percentile_95_daily_min = inference_conus_pt_dailymax.quantile(0.95, dim='member')\n",
        "\n",
        "# Plotting\n",
        "plt.figure(figsize=(12, 6))\n",
        "mean_daily_min['2mT'].plot(label='Mean Daily Maximum 2m Temperature', color='blue')\n",
        "\n",
        "# Shade the standard deviation\n",
        "plt.fill_between(mean_daily_min['2mT'].time.values,\n",
        "                 (mean_daily_min['2mT'] - std_daily_min['2mT']).values,\n",
        "                 (mean_daily_min['2mT'] + std_daily_min['2mT']).values,\n",
        "                 color='blue', alpha=0.2, label='Std Deviation')\n",
        "\n",
        "# Plot the 5th and 95th percentiles\n",
        "percentile_5_daily_min['2mT'].plot(label='5th Percentile', color='red', linestyle='--')\n",
        "percentile_95_daily_min['2mT'].plot(label='95th Percentile', color='green', linestyle='--')\n",
        "\n",
        "plt.title(f'Daily Maximum 2m Temperature at Lat: {latitude_pt}, Lon: {longitude_pt}')\n",
        "plt.xlabel('Time')\n",
        "plt.ylabel('2m Temperature (K)')\n",
        "plt.legend()\n",
        "plt.grid(True)\n",
        "plt.show()"
      ],
      "outputs": [],
      "execution_count": null
    },
    {
      "metadata": {
        "id": "aW_jgx47yJEA"
      },
      "cell_type": "code",
      "source": [
        "# @title Daily Minimum Temperature Forecast\n",
        "# Calculate the mean, std, 5th, and 95th percentiles\n",
        "mean_daily_min = inference_conus_pt_dailymin.mean(dim='member')\n",
        "std_daily_min = inference_conus_pt_dailymin.std(dim='member')\n",
        "percentile_5_daily_min = inference_conus_pt_dailymin.quantile(0.05, dim='member')\n",
        "percentile_95_daily_min = inference_conus_pt_dailymin.quantile(0.95, dim='member')\n",
        "\n",
        "# Plotting\n",
        "plt.figure(figsize=(12, 6))\n",
        "mean_daily_min['2mT'].plot(label='Mean Daily Minimum 2m Temperature', color='blue')\n",
        "\n",
        "# Shade the standard deviation\n",
        "plt.fill_between(mean_daily_min['2mT'].time.values,\n",
        "                 (mean_daily_min['2mT'] - std_daily_min['2mT']).values,\n",
        "                 (mean_daily_min['2mT'] + std_daily_min['2mT']).values,\n",
        "                 color='blue', alpha=0.2, label='Std Deviation')\n",
        "\n",
        "# Plot the 5th and 95th percentiles\n",
        "percentile_5_daily_min['2mT'].plot(label='5th Percentile', color='red', linestyle='--')\n",
        "percentile_95_daily_min['2mT'].plot(label='95th Percentile', color='green', linestyle='--')\n",
        "\n",
        "plt.title(f'Daily Minimum 2m Temperature at Lat: {latitude_pt}, Lon: {longitude_pt}')\n",
        "plt.xlabel('Time')\n",
        "plt.ylabel('2m Temperature (K)')\n",
        "plt.legend()\n",
        "plt.grid(True)\n",
        "plt.show()"
      ],
      "outputs": [],
      "execution_count": null
    },
    {
      "metadata": {
        "id": "ibT2ZbsKZVRV"
      },
      "cell_type": "markdown",
      "source": [
        "## Inference CONUS chunked by member\n",
        "Now we will work with the inference conus dataset chunked by member to plot a map of the daily maximum temperature."
      ]
    },
    {
      "metadata": {
        "id": "LMEp-9RSWw2h"
      },
      "cell_type": "code",
      "source": [
        "inference_conus_member = xr.open_zarr(\n",
        "            \"gs://genfocal/data/inference/conus/debiased_100members_jja10s_8samples_xm153985229_member_chunks.zarr\",\n",
        "            consolidated=True\n",
        ")\n",
        "inference_conus_member"
      ],
      "outputs": [],
      "execution_count": null
    },
    {
      "metadata": {
        "id": "B2Xkv5kiXhvm"
      },
      "cell_type": "code",
      "source": [
        "# @title Ensemble mean of daily maximum 2 meter temperature\n",
        "surface_variable_name = \"2mT\"\n",
        "date = \"2015-08-01\" # @param {type:\"date\"}\n",
        "time_slice=slice(f\"{date} T00\", f\"{date} T23\")\n",
        "\n",
        "scalar_array_daily = inference_conus_member[surface_variable_name].sel(time=time_slice).squeeze()\n",
        "conus_lat = inference_conus_member.latitude\n",
        "conus_lon = inference_conus_member.longitude\n",
        "title_string = f\"Ensemble Mean Daily Maximum Temperature on {date}\"\n",
        "scalar_array_dailymx_mean = scalar_array_daily.max(dim='time').mean(dim='member').compute()\n",
        "plot_scalar(scalar_array_dailymx_mean, conus_lat.min(), conus_lat.max(),\n",
        "             conus_lon.min(), conus_lon.max(), title_string)\n"
      ],
      "outputs": [],
      "execution_count": null
    },
    {
      "metadata": {
        "id": "T9Cnquodaj4y"
      },
      "cell_type": "code",
      "source": [
        "# @title Ensemble standard deviation of daily maximum 2 meter temperature\n",
        "scalar_array_daily_std = scalar_array_daily.max(dim='time').std(dim='member').compute()\n",
        "title_string = f\"Ensemble Mean Spread Maximum Temperature on {date}\"\n",
        "plot_scalar(scalar_array_daily_std, conus_lat.min(), conus_lat.max(),\n",
        "             conus_lon.min(), conus_lon.max(), title_string)\n"
      ],
      "outputs": [],
      "execution_count": null
    }
  ],
  "metadata": {
    "colab": {
      "private_outputs": true,
      "provenance": []
    },
    "kernelspec": {
      "display_name": "Python 3",
      "name": "python3"
    },
    "language_info": {
      "name": "python"
    }
  },
  "nbformat": 4,
  "nbformat_minor": 0
}
