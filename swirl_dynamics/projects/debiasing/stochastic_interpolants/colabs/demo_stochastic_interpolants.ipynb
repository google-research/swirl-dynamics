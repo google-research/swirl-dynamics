{
  "cells": [
    {
      "metadata": {
        "id": "htEEY6RvQ8Tp"
      },
      "cell_type": "markdown",
      "source": [
        "# Example for generation using stochastic interpolants.\n",
        "\n",
        "Here we consider the simple example of generating numbers (from MNIST) using the stochasting interpolant formalism.\n",
        "\n",
        "We consider the simplest instantiation of the stochastic interpolants, which coincides with rectified flows.\n",
        "\n",
        "Basically, suppose that we have two distributions of $d$-dimensional vectors $X_0$ and $X_1$, then we define the interpolant:\n",
        "$$X_t = (1 -t) X_0 + t X_1 + \\gamma(t) Z$$\n",
        "for $t \\in [0, 1]$. Here we consider $X_0 \\sim N(0, I_{d})$, $Z \\sim N(0, I_{d})$, and $X_1$ is random variable given by handwritten digits, with samples taken from the MNIST dataset. Here $d$ is the number of pixels of MNIST samples."
      ]
    },
    {
      "metadata": {
        "id": "LcRQQ_bZTzaf"
      },
      "cell_type": "markdown",
      "source": [
        "### Downloading dependencies.\n",
        "\n",
        "We use the `swirl-dynamics` library for most of the heavy lifting, so we install it using pip."
      ]
    },
    {
      "metadata": {
        "id": "nFKh8QMPRKuv"
      },
      "cell_type": "code",
      "source": [
        "!pip install git+https://github.com/google-research/swirl-dynamics.git@main"
      ],
      "outputs": [],
      "execution_count": null
    },
    {
      "metadata": {
        "id": "suLdZxuhE4qv"
      },
      "cell_type": "markdown",
      "source": [
        "We also import all the necessary libraries."
      ]
    },
    {
      "metadata": {
        "id": "zjF7tVIERgGH"
      },
      "cell_type": "code",
      "source": [
        "from clu import metric_writers\n",
        "import jax\n",
        "import jax\n",
        "import jax.numpy as jnp\n",
        "import matplotlib.pyplot as plt\n",
        "import numpy as np\n",
        "import optax\n",
        "from orbax import checkpoint\n",
        "from swirl_dynamics.projects.debiasing.rectified_flow import models as reflow_models\n",
        "from swirl_dynamics.projects.debiasing.stochastic_interpolants import interpolants\n",
        "from swirl_dynamics.projects.debiasing.stochastic_interpolants import losses\n",
        "from swirl_dynamics.projects.debiasing.stochastic_interpolants import models\n",
        "from swirl_dynamics.projects.debiasing.stochastic_interpolants import trainers\n",
        "from swirl_dynamics.templates import callbacks\n",
        "from swirl_dynamics.templates import train\n",
        "import tensorflow as tf\n",
        "import tensorflow_datasets as tfds"
      ],
      "outputs": [],
      "execution_count": null
    },
    {
      "metadata": {
        "id": "Tn6RrtNTU-ew"
      },
      "cell_type": "markdown",
      "source": [
        "### Define Hyper-Parameters\n",
        "\n",
        "For simplicity we define the parameters inside a `ConfigDict`."
      ]
    },
    {
      "metadata": {
        "id": "jLz7hEEGUrE2"
      },
      "cell_type": "code",
      "source": [
        "import ml_collections\n",
        "\n",
        "config = ml_collections.ConfigDict()\n",
        "\n",
        "# Parameters for the training steps.\n",
        "config.initial_lr = 1e-6\n",
        "config.peak_lr = 1e-4\n",
        "config.warmup_steps = 10_000\n",
        "config.num_train_steps = 100_000\n",
        "config.end_lr = 1e-6\n",
        "config.beta1 = 0.999\n",
        "config.clip = 1.0\n",
        "config.save_interval_steps = 1000\n",
        "config.max_checkpoints_to_keep = 10\n",
        "\n",
        "config.num_train_steps = 50_000\n",
        "config.metric_aggregation_steps = 1000\n",
        "config.eval_every_steps = 10_000\n",
        "config.num_batches_per_eval = 2\n",
        "config.batch_size_training = 64\n",
        "config.batch_size_eval = 32\n",
        "\n",
        "# Parameters for the instantation of the neural network.\n",
        "# Here we will use a simple convoluational U-net with FilM layers\n",
        "config.out_channels = 1\n",
        "config.num_channels = (64, 128)\n",
        "config.downsample_ratio = (2, 2)\n",
        "config.num_blocks = 4\n",
        "config.noise_embed_dim = 128\n",
        "config.padding = \"SAME\"\n",
        "config.use_attention = True\n",
        "config.use_position_encoding = True\n",
        "config.num_heads = 8\n",
        "config.sigma_data = 0.31\n",
        "config.seed = 666\n",
        "config.ema_decay = 0.99\n",
        "\n",
        "# The shapes of x_0 and x_1.\n",
        "# The leading one represents the batch dimension.\n",
        "config.input_shapes = ((1, 28, 28, 1), (1, 28, 28, 1))"
      ],
      "outputs": [],
      "execution_count": null
    },
    {
      "metadata": {
        "id": "xrXypPLGUGXg"
      },
      "cell_type": "markdown",
      "source": [
        "### Downloading the data.\n",
        "\n",
        "For the data we leverage the MNIST dataset in tensorflow datasets, to which we introduce an extra field with random Normal noise."
      ]
    },
    {
      "metadata": {
        "id": "fa5rMtlFRdGI"
      },
      "cell_type": "code",
      "source": [
        "def get_mnist_dataset(split: str, batch_size: int, repeat: bool = True):\n",
        "  ds = tfds.load(\"mnist\", split=split)\n",
        "  ds = ds.map(\n",
        "      # Change field name from \"image\" to \"x\" (required by `DenoisingModel`)\n",
        "      # and normalize the value to [0, 1].\n",
        "      lambda x: {\n",
        "          \"x_0\": tf.random.normal(shape=x[\"image\"].shape, mean=0.0),\n",
        "          \"x_1\": tf.cast(x[\"image\"], tf.float32) / 255.0,\n",
        "      }\n",
        "  )\n",
        "  if repeat:\n",
        "    ds = ds.repeat()\n",
        "  ds = ds.batch(batch_size)\n",
        "  ds = ds.prefetch(tf.data.AUTOTUNE)\n",
        "  ds = ds.as_numpy_iterator()\n",
        "  return ds\n",
        "\n",
        "\n",
        "# The standard deviation of the normalized dataset.\n",
        "# This is useful for determining the diffusion scheme and preconditioning\n",
        "# of the neural network parametrization.\n",
        "DATA_STD = 0.31"
      ],
      "outputs": [],
      "execution_count": null
    },
    {
      "metadata": {
        "id": "quW2jj96Odma"
      },
      "cell_type": "markdown",
      "source": [
        "Instantiating the dataloaders. This will download the data to disk so it can be fed directly to the training pipeline."
      ]
    },
    {
      "metadata": {
        "id": "NMwnFjbzi176"
      },
      "cell_type": "code",
      "source": [
        "train_dataloader = get_mnist_dataset(\n",
        "    split=\"train\", batch_size=config.batch_size_training\n",
        ")\n",
        "eval_dataloader = get_mnist_dataset(\n",
        "    split=\"test\", batch_size=config.batch_size_eval\n",
        ")"
      ],
      "outputs": [],
      "execution_count": null
    },
    {
      "metadata": {
        "id": "Dg9o9wAxO9BO"
      },
      "cell_type": "markdown",
      "source": [
        "Here we extract one batch and we probe the elements inside a batch.\n"
      ]
    },
    {
      "metadata": {
        "id": "8Se3Ur0TO9e6"
      },
      "cell_type": "code",
      "source": [
        "batch = next(iter(train_dataloader))\n",
        "print(f\"Keys of the batch: {batch.keys()}\")\n",
        "print(f\"Shape of the x_0: {batch['x_0'].shape}\")\n",
        "print(f\"Shape of the x_1: {batch['x_1'].shape}\")"
      ],
      "outputs": [],
      "execution_count": null
    },
    {
      "metadata": {
        "id": "tJdCaY59PTQb"
      },
      "cell_type": "code",
      "source": [
        "plt.figure(figsize=(10, 10))\n",
        "plt.subplot(1, 2, 1)\n",
        "plt.imshow(batch[\"x_0\"][1, :, :, 0])\n",
        "plt.title(\"Sample from initial distribution x_0\")\n",
        "plt.subplot(1, 2, 2)\n",
        "plt.imshow(batch[\"x_1\"][1, :, :, 0])\n",
        "plt.title(\"Sample from target distribution x_1\")"
      ],
      "outputs": [],
      "execution_count": null
    },
    {
      "metadata": {
        "id": "UlyDc4ykUY0S"
      },
      "cell_type": "markdown",
      "source": [
        "### Defining the stochastic interpolant optimizers\n",
        "\n",
        "Here we define the learning rate schedule, for simplicity we use a linear ramp-up followed with a cosine decay schedule. This can be further tweaked but empirically, this has shown to provide reasonable results for this type of problems.\n",
        "\n",
        "For the optimizer we use the Adam optimizer, and we also add a clipping mechanism to help avoid instabilities.\n"
      ]
    },
    {
      "metadata": {
        "id": "Yr9nX8QvUfrl"
      },
      "cell_type": "code",
      "source": [
        "# Defining experiments through the config file.\n",
        "schedule = optax.warmup_cosine_decay_schedule(\n",
        "    init_value=config.initial_lr,\n",
        "    peak_value=config.peak_lr,\n",
        "    warmup_steps=config.warmup_steps,\n",
        "    decay_steps=config.num_train_steps,\n",
        "    end_value=config.end_lr,\n",
        ")\n",
        "\n",
        "optimizer = optax.chain(\n",
        "    optax.adam(\n",
        "        learning_rate=schedule,\n",
        "        b1=config.beta1,\n",
        "    ),\n",
        ")"
      ],
      "outputs": [],
      "execution_count": null
    },
    {
      "metadata": {
        "id": "p3HHc7egnxWl"
      },
      "cell_type": "markdown",
      "source": [
        "## Instantiating the model\n",
        "\n",
        "In this case the model is a fully convolutional U-net model, using ResNet blocks with a Fourier embedding layer for the time.\n",
        "\n",
        "Here this model parametrized the velocity vector field in the stochastic interpolant framework. Although for simplicity we consider a rectified flow approach (which is a specific instantiation of stochastic interpolants when $\\gamma(t) = 0$).\n",
        "\n",
        "I.e., we have an interpolant of the form:\n",
        "$$x_t = \\alpha(t) x_0 + \\beta(t) x_1$$\n",
        "where\n",
        "$$\\alpha(t) = 1-t, \\qquad \\text{and}  \\beta(t) = t.$$\n",
        "\n",
        "Here we use the already defined ``RectifiedFlow`` class defined in [``interpolants``](https://github.com/google-research/swirl-dynamics/blob/main/swirl_dynamics/projects/debiasing/stochastic_interpolants/interpolants.py)."
      ]
    },
    {
      "metadata": {
        "id": "jFvFZeNxjPaj"
      },
      "cell_type": "code",
      "source": [
        "interpolant = interpolants.RectifiedFlow()"
      ],
      "outputs": [],
      "execution_count": null
    },
    {
      "metadata": {
        "id": "C6y-uxDimu7K"
      },
      "cell_type": "markdown",
      "source": [
        "We show how the interpolant progressible transforms the Gaussian noise to one of the target samples."
      ]
    },
    {
      "metadata": {
        "id": "kcJWoT5vkorl"
      },
      "cell_type": "code",
      "source": [
        "x_0_dummy = batch['x_0'][0:1, ..., 0]\n",
        "x_1_dummy = batch['x_1'][0:1, ..., 0]\n",
        "# We are not adding extra noise.\n",
        "z_dummy = jnp.zeros_like(x_1_dummy)\n",
        "\n",
        "t_array = jnp.linspace(0, 1, 6)\n",
        "_, axs = plt.subplots(1, 6, figsize=(24, 4))\n",
        "for ii, t in enumerate(t_array):\n",
        "  x_t = interpolant(t[None], x_0_dummy, x_1_dummy, z_dummy)\n",
        "  axs[ii].imshow(x_t[0, :, :])\n",
        "  axs[ii].set_title(f'Sample from x_{t:\u003c.3f}')\n",
        "\n",
        "plt.show()"
      ],
      "outputs": [],
      "execution_count": null
    },
    {
      "metadata": {
        "id": "g_BSg52hjTCl"
      },
      "cell_type": "markdown",
      "source": [
        "We consider a generative model that is instantiated by solving the following ODE:\n",
        "$$\\dot{x} = v_{\\theta}(x, t), \\qquad t \\in [0, 1],$$\n",
        "in this case, the model defined below parametrizes $v_{\\theta}(x, t)$."
      ]
    },
    {
      "metadata": {
        "id": "ocXSM5oEnwj7"
      },
      "cell_type": "code",
      "source": [
        "flow_model = reflow_models.RescaledUnet(\n",
        "    out_channels=1,\n",
        "    num_channels=(64, 128),\n",
        "    downsample_ratio=(2, 2),\n",
        "    num_blocks=4,\n",
        "    noise_embed_dim=128,\n",
        "    padding=\"SAME\",\n",
        "    use_attention=True,\n",
        "    use_position_encoding=True,\n",
        "    num_heads=8,\n",
        ")"
      ],
      "outputs": [],
      "execution_count": null
    },
    {
      "metadata": {
        "id": "o3AYca0-nqVv"
      },
      "cell_type": "markdown",
      "source": [
        "We also need to measure how the distance between the neural network and the speed would be considered. In this case we consider the loss:\n",
        "$$|v_{\\theta}(x_t, t) - \\dot{x}_{t}|^2,$$\n",
        "which can be furter simplified to\n",
        "$$|v_{\\theta}(x_t, t) - (x_1 - x_0)|^2.$$\n",
        "using the fact that $\\dot{x}_{t} = x_1 - x_0.$\n",
        "\n",
        "An equivalent loss was already defined in the [``losses``](https://github.com/google-research/swirl-dynamics/blob/main/swirl_dynamics/projects/debiasing/stochastic_interpolants/losses.py) module."
      ]
    },
    {
      "metadata": {
        "id": "Jcd9wXZBnpy5"
      },
      "cell_type": "code",
      "source": [
        "loss_stochastic_interpolant = losses.velocity_loss"
      ],
      "outputs": [],
      "execution_count": null
    },
    {
      "metadata": {
        "id": "7u9Xc-URnaYi"
      },
      "cell_type": "markdown",
      "source": [
        "Now we have all the required elements to create an instance of ``StochasticInterpolantModel``, which encapsulates all the information at the model level."
      ]
    },
    {
      "metadata": {
        "id": "md1p7pzNnVwW"
      },
      "cell_type": "code",
      "source": [
        "model = models.StochasticInterpolantModel(\n",
        "    input_shape=(\n",
        "        config.input_shapes[0][1],\n",
        "        config.input_shapes[0][2],\n",
        "        config.input_shapes[0][3],\n",
        "    ),  # This must agree with the expected sample shape.\n",
        "    flow_model=flow_model,\n",
        "    # Defines the type of stochastic interpolant.\n",
        "    interpolant=interpolant,\n",
        "    # Defines the type of loss used for the training.\n",
        "    loss_stochastic_interpolant=loss_stochastic_interpolant,\n",
        "    num_eval_cases_per_lvl=8,\n",
        ")"
      ],
      "outputs": [],
      "execution_count": null
    },
    {
      "metadata": {
        "id": "wSuF5VeRkJl2"
      },
      "cell_type": "markdown",
      "source": [
        "### Building the trainer"
      ]
    },
    {
      "metadata": {
        "id": "KaSwHJJuo1f1"
      },
      "cell_type": "markdown",
      "source": [
        "Now, we just need to instantiate the trainer, which contains all the information to run the training loop. This includes the model, the optimizer, and the checkpointer."
      ]
    },
    {
      "metadata": {
        "id": "icw8mWoHWjE8"
      },
      "cell_type": "code",
      "source": [
        "# Defining the trainer.\n",
        "trainer = trainers.StochasticInterpolantTrainer(\n",
        "    model=model,\n",
        "    rng=jax.random.key(config.seed),\n",
        "    optimizer=optimizer,\n",
        "    ema_decay=config.ema_decay,\n",
        ")\n",
        "\n",
        "# Setting up checkpointing.\n",
        "ckpt_options = checkpoint.CheckpointManagerOptions(\n",
        "    save_interval_steps=config.save_interval_steps,\n",
        "    max_to_keep=config.max_checkpoints_to_keep,\n",
        ")\n",
        "\n",
        "# Sets up the working directory.\n",
        "workdir = \"/reflow/content\"  # typical current position in Colab."
      ],
      "outputs": [],
      "execution_count": null
    },
    {
      "metadata": {
        "id": "r0gC0ChUeh5c"
      },
      "cell_type": "code",
      "source": [
        "### If you need to remove the checkpoint to start from scratch.\n",
        "# !rm -Rf /reflow/content/checkpoints"
      ],
      "outputs": [],
      "execution_count": null
    },
    {
      "metadata": {
        "id": "WWxXqMZnhE3d"
      },
      "cell_type": "markdown",
      "source": [
        "### Running the training loop.\n",
        "We run the training loop.\n",
        "\n",
        "Here the seek to solve the problem\n",
        "\n",
        "$$ \\min_{\\theta} \\mathbb{E}_{t \\sim U[0, 1]} \\mathbb{E}_{(x_0, x_1) \\in \\mu_0 \\otimes \\mu_1} \\left \\| \\dot{x}_t - v_{\\theta}(x_t, t)  \\right \\|^2,$$\n",
        "where $x_t = t x_1 + (1-t) x_0$, and $\\mu_0 \\sim N(0, 1)$ and $\\mu_1$ is the distribution of MNIST digits.\n",
        "\n",
        "\n",
        "This loss can be further simplified as\n",
        "$$ \\min_{\\theta} \\mathbb{E}_{t \\sim U[0, 1]} \\mathbb{E}_{(x_0, x_1) \\in \\mu_0 \\otimes \\mu_1}   | v_{\\theta}(x_t, t)|^2  - 2 (x_1 - x_0 ) \\cdot  v_{\\theta}(x_t, t),$$\n",
        "using the fact that $\\dot{x}_t = x_1 - x_0$ and that $\\dot{x}_t$ is independent of $\\theta$.\n",
        "\n",
        "Note the full training step it takes around 15-20 mins in a TPU v6e (Trillium).\n"
      ]
    },
    {
      "metadata": {
        "id": "m4MGSJeXaWSe"
      },
      "cell_type": "code",
      "source": [
        "# Run training loop.\n",
        "\n",
        "train.run(\n",
        "    train_dataloader=train_dataloader,\n",
        "    trainer=trainer,\n",
        "    workdir=workdir,\n",
        "    total_train_steps=config.num_train_steps,\n",
        "    metric_aggregation_steps=config.metric_aggregation_steps,  # 30\n",
        "    eval_dataloader=eval_dataloader,\n",
        "    eval_every_steps=config.eval_every_steps,\n",
        "    num_batches_per_eval=config.num_batches_per_eval,\n",
        "    metric_writer=metric_writers.create_default_writer(\n",
        "        workdir, asynchronous=False\n",
        "    ),\n",
        "    callbacks=(\n",
        "        callbacks.TqdmProgressBar(\n",
        "            total_train_steps=config.num_train_steps,\n",
        "            train_monitors=(\"train_loss\",),\n",
        "        ),\n",
        "        # This callback saves model checkpoint periodically.\n",
        "        callbacks.TrainStateCheckpoint(\n",
        "            base_dir=workdir,\n",
        "            options=ckpt_options,\n",
        "        ),\n",
        "        # TODO add a plot callback.\n",
        "    ),\n",
        ")"
      ],
      "outputs": [],
      "execution_count": null
    },
    {
      "metadata": {
        "id": "F5c3-q7FkZWc"
      },
      "cell_type": "markdown",
      "source": [
        "# Running Inference"
      ]
    },
    {
      "metadata": {
        "id": "41SUZuGgmCn7"
      },
      "cell_type": "markdown",
      "source": [
        "Loading extra libraries for running inference."
      ]
    },
    {
      "metadata": {
        "id": "4oYyp_5Nl_n1"
      },
      "cell_type": "code",
      "source": [
        "import functools\n",
        "from swirl_dynamics.lib.solvers import ode as ode_solvers\n",
        "from tqdm import tqdm"
      ],
      "outputs": [],
      "execution_count": null
    },
    {
      "metadata": {
        "id": "uc8IMrsclUxQ"
      },
      "cell_type": "markdown",
      "source": [
        "Define the dataloader to run inference."
      ]
    },
    {
      "metadata": {
        "id": "uCC3H1bEdMTF"
      },
      "cell_type": "code",
      "source": [
        "test_dataloader = get_mnist_dataset(\n",
        "    split=\"test\", batch_size=config.batch_size_eval, repeat=False\n",
        ")"
      ],
      "outputs": [],
      "execution_count": null
    },
    {
      "metadata": {
        "id": "2QyDzd5LlwIq"
      },
      "cell_type": "markdown",
      "source": [
        "### Load the last trained model and define the dynamics."
      ]
    },
    {
      "metadata": {
        "id": "WK2Y1RC2lvKQ"
      },
      "cell_type": "code",
      "source": [
        "trained_state = trainers.TrainState.restore_from_orbax_ckpt(\n",
        "    f\"{workdir}/checkpoints\", step=None\n",
        ")"
      ],
      "outputs": [],
      "execution_count": null
    },
    {
      "metadata": {
        "id": "Udq4tYKKl4vt"
      },
      "cell_type": "code",
      "source": [
        "latent_dynamics_fn = ode_solvers.nn_module_to_dynamics(\n",
        "    model.flow_model,\n",
        "    autonomous=False,\n",
        "    is_training=False,\n",
        ")"
      ],
      "outputs": [],
      "execution_count": null
    },
    {
      "metadata": {
        "id": "AU8-AFJep_5X"
      },
      "cell_type": "markdown",
      "source": [
        "We define the ODE solver, (here Runge-Kutta 4th order), and other details such as the number of steps."
      ]
    },
    {
      "metadata": {
        "id": "kgweIuX4l9GF"
      },
      "cell_type": "code",
      "source": [
        "num_sampling_steps = 128\n",
        "\n",
        "integrator = ode_solvers.RungeKutta4()\n",
        "integrate_fn = functools.partial(\n",
        "    integrator,\n",
        "    latent_dynamics_fn,\n",
        "    tspan=jnp.arange(0.0, 1.0, 1.0 / num_sampling_steps),\n",
        "    params=trained_state.model_variables,\n",
        ")\n",
        "\n",
        "integrate_fn_jit = jax.jit(integrate_fn)"
      ],
      "outputs": [],
      "execution_count": null
    },
    {
      "metadata": {
        "id": "6hf0XVLJqH_F"
      },
      "cell_type": "code",
      "source": [
        "batch = next(iter(test_dataloader))\n",
        "print(f\"Shape of the x_0 condition, {batch['x_0'].shape}\")\n",
        "out_put = integrate_fn_jit(batch[\"x_0\"])\n",
        "print(f\"Shape of the generated x_1 {out_put.shape}\")"
      ],
      "outputs": [],
      "execution_count": null
    },
    {
      "metadata": {
        "id": "a19KqEGISluG"
      },
      "cell_type": "code",
      "source": [
        "plt.imshow(out_put[-1, 0, :, :, 0])"
      ],
      "outputs": [],
      "execution_count": null
    },
    {
      "metadata": {
        "id": "SJzKJdGFnESD"
      },
      "cell_type": "markdown",
      "source": [
        "### Running Inference Loop.\n",
        "\n",
        "This may take a non-negligible amount of time."
      ]
    },
    {
      "metadata": {
        "id": "v2vqQkvUmrk7"
      },
      "cell_type": "code",
      "source": [
        "input_list = []\n",
        "output_list = []\n",
        "\n",
        "for _, batch in tqdm(enumerate(test_dataloader)):\n",
        "  input_list.append(batch[\"x_0\"])\n",
        "\n",
        "  output = np.array(\n",
        "      integrate_fn_jit(batch[\"x_0\"])[-1].reshape(\n",
        "          (-1, config.input_shapes[1][1], config.input_shapes[1][2])\n",
        "      )\n",
        "  )\n",
        "  output_list.append(output)"
      ],
      "outputs": [],
      "execution_count": null
    },
    {
      "metadata": {
        "id": "j4bBlRPeYz-P"
      },
      "cell_type": "code",
      "source": [
        "output_array = np.concatenate(output_list, axis=0)\n",
        "print(f\"Shape of the output array: {output_array.shape}\")"
      ],
      "outputs": [],
      "execution_count": null
    },
    {
      "metadata": {
        "id": "INuCK8YBY7iq"
      },
      "cell_type": "code",
      "source": [
        "num_plots = 6\n",
        "_, axs = plt.subplots(1, num_plots, figsize=(num_plots * 4, 4))\n",
        "num_samples = output_array.shape[0]\n",
        "idx_samples = np.linspace(0, num_samples - 1, num_plots).astype(int)\n",
        "for ii, idx in enumerate(idx_samples):\n",
        "  axs[ii].imshow(output_array[idx, :, :])\n",
        "  axs[ii].set_title(f\"Sample number: {idx}\")\n",
        "\n",
        "plt.show()"
      ],
      "outputs": [],
      "execution_count": null
    }
  ],
  "metadata": {
    "accelerator": "TPU",
    "colab": {
      "gpuType": "V6E1",
      "machine_shape": "hm",
      "private_outputs": true,
      "provenance": [
        {
          "file_id": "1EMyBTRxEvF-XHnKQK3HNgWvqKYNpzAfi",
          "timestamp": 1745815061659
        },
        {
          "file_id": "1LaxpTzo8aucfAAj5eI8buNWY4pDI_T6d",
          "timestamp": 1745555288947
        }
      ]
    },
    "kernelspec": {
      "display_name": "Python 3",
      "name": "python3"
    },
    "language_info": {
      "name": "python"
    }
  },
  "nbformat": 4,
  "nbformat_minor": 0
}
