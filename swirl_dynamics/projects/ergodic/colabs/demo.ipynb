{
  "cells": [
    {
      "cell_type": "markdown",
      "metadata": {
        "id": "d_9f5Fwifhd9"
      },
      "source": [
        "## Imports \u0026 Setup"
      ]
    },
    {
      "metadata": {
        "id": "KVFyD1Dt0KNq"
      },
      "cell_type": "markdown",
      "source": [
        "We install the library (including the templates) along other dependencies necessaries that are project specific."
      ]
    },
    {
      "metadata": {
        "id": "6K0Xqgj3_k9D"
      },
      "cell_type": "code",
      "source": [
        "!pip install git+https://github.com/google-research/swirl-dynamics.git@main\n",
        "!pip install ml_collections\n",
        "!pip install ott-jax"
      ],
      "outputs": [],
      "execution_count": null
    },
    {
      "metadata": {
        "id": "SeMNX05b0KNq"
      },
      "cell_type": "markdown",
      "source": [
        "We import all the necessary libraries for training."
      ]
    },
    {
      "cell_type": "code",
      "execution_count": null,
      "metadata": {
        "id": "4_fPXR-nX9y6"
      },
      "outputs": [],
      "source": [
        "import json\n",
        "from os import path as osp\n",
        "\n",
        "import jax\n",
        "import ml_collections\n",
        "import optax\n",
        "from orbax import checkpoint\n",
        "import pandas as pd\n",
        "import tensorflow as tf\n",
        "from IPython.display import display"
      ]
    },
    {
      "metadata": {
        "id": "GNrzTgyV0KNq"
      },
      "cell_type": "markdown",
      "source": [
        "We also import the elements of the swirl_dynamics library that we will use."
      ]
    },
    {
      "cell_type": "code",
      "execution_count": null,
      "metadata": {
        "id": "Jgdzz2GNgJPh"
      },
      "outputs": [],
      "source": [
        "from swirl_dynamics.lib.solvers import ode\n",
        "from swirl_dynamics.projects.ergodic import choices\n",
        "from swirl_dynamics.projects.ergodic import ks_1d\n",
        "from swirl_dynamics.projects.ergodic import lorenz63\n",
        "from swirl_dynamics.projects.ergodic import ns_2d\n",
        "from swirl_dynamics.projects.ergodic import stable_ar\n",
        "from swirl_dynamics.projects.ergodic import utils\n",
        "from swirl_dynamics.templates import callbacks\n",
        "from swirl_dynamics.templates import train\n",
        "\n",
        "# Loading the configuration files.\n",
        "from swirl_dynamics.projects.ergodic.configs import ks_1d as ks_1d_config\n",
        "from swirl_dynamics.projects.ergodic.configs import lorenz63 as lorenz63_config\n",
        "from swirl_dynamics.projects.ergodic.configs import ns_2d as ns_2d_config"
      ]
    },
    {
      "cell_type": "code",
      "execution_count": null,
      "metadata": {
        "id": "yN0beXALW2kG"
      },
      "outputs": [],
      "source": [
        "tf.config.experimental.set_visible_devices([], \"GPU\")"
      ]
    },
    {
      "cell_type": "code",
      "execution_count": null,
      "metadata": {
        "id": "Ztfx6vsqtu12"
      },
      "outputs": [],
      "source": [
        "def get_config(\n",
        "    experiment: str,\n",
        "    batch_size: int,\n",
        "    normalize: bool,\n",
        "    add_noise: bool,\n",
        "    use_curriculum: bool,\n",
        "    use_pushfwd: bool,\n",
        "    measure_dist_type: str,\n",
        "    measure_dist_lambda: float,\n",
        "    measure_dist_k_lambda: float,\n",
        ") -\u003e ml_collections.ConfigDict:\n",
        "  \"\"\"Helper to retrieve config and override defaults.\"\"\"\n",
        "  experiment = choices.Experiment(experiment)\n",
        "  if experiment == choices.Experiment.L63:\n",
        "    config = lorenz63_config.get_config()\n",
        "  elif experiment == choices.Experiment.KS_1D:\n",
        "    config = ks_1d_config.get_config()\n",
        "  elif experiment == choices.Experiment.NS_2D:\n",
        "    config = ns_2d_config.get_config()\n",
        "  else:\n",
        "    raise NotImplementedError(f\"Unknown experiment: {experiment}\")\n",
        "  config.batch_size = batch_size\n",
        "  config.normalize = normalize\n",
        "  config.add_noise = add_noise\n",
        "  if add_noise:\n",
        "    config.noise_level = 1e-3\n",
        "  config.use_curriculum = use_curriculum\n",
        "  config.use_pushfwd = use_pushfwd\n",
        "  config.measure_dist_type = measure_dist_type\n",
        "  config.measure_dist_lambda = measure_dist_lambda\n",
        "  config.measure_dist_k_lambda = measure_dist_k_lambda\n",
        "  if use_curriculum:\n",
        "    config.train_steps_per_cycle = 50_000\n",
        "    config.time_steps_increase_per_cycle = 1\n",
        "  else:\n",
        "    config.train_steps_per_cycle = 0\n",
        "    config.time_steps_increase_per_cycle = 0\n",
        "  config.metric_aggregation_steps = 1  # Log to tqdm bar more frequently\n",
        "  return config"
      ]
    },
    {
      "cell_type": "markdown",
      "metadata": {
        "id": "rAup2UycYSjZ"
      },
      "source": [
        "## Define experiment config"
      ]
    },
    {
      "cell_type": "code",
      "execution_count": null,
      "metadata": {
        "cellView": "form",
        "id": "jsDPtb30tUNN"
      },
      "outputs": [],
      "source": [
        "experiment = \"ns_2d\"  #@param choices=['lorenz63', 'ks_1d', 'ns_2d']\n",
        "batch_size = 512  #@param {type:\"integer\"}\n",
        "measure_dist_type = \"MMD\" #@param choices=['MMD', 'SD']\n",
        "normalize = False  #@param {type:\"boolean\"}\n",
        "add_noise = False  #@param {type:\"boolean\"}\n",
        "use_curriculum = True  #@param {type:\"boolean\"}\n",
        "use_pushfwd = True  #@param {type:\"boolean\"}\n",
        "measure_dist_lambda = 0.0  #@param {type:\"number\"}\n",
        "measure_dist_k_lambda = 0.0  #@param {type:\"number\"}\n",
        "display_config = True  #@param {type:\"boolean\"}\n",
        "config = get_config(\n",
        "    experiment,\n",
        "    batch_size,\n",
        "    normalize,\n",
        "    add_noise,\n",
        "    use_curriculum,\n",
        "    use_pushfwd,\n",
        "    measure_dist_type,\n",
        "    measure_dist_lambda,\n",
        "    measure_dist_k_lambda,\n",
        ")\n",
        "\n",
        "if display_config:\n",
        "  config_df = pd.DataFrame.from_dict(\n",
        "      config,\n",
        "      orient='index',\n",
        "      columns=['Config values']\n",
        "  )\n",
        "  display(config_df)"
      ]
    },
    {
      "cell_type": "markdown",
      "metadata": {
        "id": "SMZnWcxQC5T_"
      },
      "source": [
        "## Run experiment"
      ]
    },
    {
      "cell_type": "code",
      "execution_count": null,
      "metadata": {
        "cellView": "form",
        "id": "baTomg5hBn_E"
      },
      "outputs": [],
      "source": [
        "workdir = \"\u003cTODO: INSERT WORKDIR HERE\u003e\"  #@param\n",
        "\n",
      ]
    },
    {
      "cell_type": "code",
      "execution_count": null,
      "metadata": {
        "id": "3oO4PJjqk-6i"
      },
      "outputs": [],
      "source": [
        "#@title Launch experiment\n",
        "print(f'Saving files and checkpoints to {workdir}.')\n",
        "# Saves config to the workdir, so that it can be loaded later.\n",
        "if not tf.io.gfile.exists(workdir):\n",
        "  tf.io.gfile.makedirs(workdir)\n",
        "with tf.io.gfile.GFile(name=osp.join(workdir, \"config.json\"), mode=\"w\") as f:\n",
        "  config_json = config.to_json_best_effort()\n",
        "  if isinstance(config_json, str):\n",
        "    conf_json = json.loads(config_json)\n",
        "  json.dump(config_json, f)\n",
        "\n",
        "# Sets up experiment-specific parameters.\n",
        "experiment = choices.Experiment(config.experiment)\n",
        "if experiment == choices.Experiment.L63:\n",
        "    fig_callback_cls = lorenz63.Lorenz63PlotFigures\n",
        "    state_dims = (3 // config.spatial_downsample_factor,)\n",
        "    optimizer = optax.adam(learning_rate=config.lr)\n",
        "elif experiment == choices.Experiment.KS_1D:\n",
        "  fig_callback_cls = ks_1d.KS1DPlotFigures\n",
        "  state_dims = (\n",
        "      512 // config.spatial_downsample_factor,\n",
        "      config.num_lookback_steps\n",
        "  )\n",
        "  optimizer = optax.adam(learning_rate=config.lr)\n",
        "elif experiment == choices.Experiment.NS_2D:\n",
        "  fig_callback_cls = ns_2d.NS2dPlotFigures\n",
        "  state_dims = (\n",
        "      64 // config.spatial_downsample_factor,\n",
        "      64 //config.spatial_downsample_factor,\n",
        "      config.num_lookback_steps\n",
        "  )\n",
        "  optimizer = optax.adam(\n",
        "      learning_rate=optax.exponential_decay(\n",
        "          init_value=config.lr,\n",
        "          transition_steps=72_000,\n",
        "          decay_rate=0.5,\n",
        "          staircase=True,\n",
        "      )\n",
        "  )\n",
        "else:\n",
        "  raise NotImplementedError(f\"Unknown experiment: {config.experiment}\")\n",
        "\n",
        "# Instantiating the dataloaders.\n",
        "train_loader, normalize_stats = utils.create_loader_from_hdf5(\n",
        "    num_time_steps=config.num_time_steps,\n",
        "    time_stride=config.time_stride,\n",
        "    batch_size=config.batch_size,\n",
        "    seed=config.seed,\n",
        "    dataset_path=config.dataset_path,\n",
        "    split=\"train\",\n",
        "    normalize=config.normalize,\n",
        "    normalize_stats=None,\n",
        "    spatial_downsample_factor=config.spatial_downsample_factor,\n",
        ")\n",
        "eval_loader, _ = utils.create_loader_from_hdf5(\n",
        "    num_time_steps=-1,\n",
        "    time_stride=config.time_stride,\n",
        "    batch_size=-1,\n",
        "    seed=config.seed,\n",
        "    dataset_path=config.dataset_path,\n",
        "    split=\"eval\",\n",
        "    normalize=config.normalize,\n",
        "    normalize_stats=normalize_stats,\n",
        "    spatial_downsample_factor=config.spatial_downsample_factor,\n",
        ")\n",
        "\n",
        "# Model\n",
        "measure_dist_fn = choices.MeasureDistance(config.measure_dist_type).dispatch()\n",
        "model_config = stable_ar.StableARModelConfig(\n",
        "    state_dimension=state_dims,\n",
        "    dynamics_model=choices.Model(config.model).dispatch(config),\n",
        "    integrator=choices.Integrator(config.integrator),\n",
        "    measure_dist=measure_dist_fn,\n",
        "    use_pushfwd=config.use_pushfwd,\n",
        "    add_noise=config.add_noise,\n",
        "    noise_level=config.noise_level,\n",
        "    measure_dist_lambda=config.measure_dist_lambda,\n",
        "    measure_dist_k_lambda=config.measure_dist_k_lambda,\n",
        "    num_lookback_steps=config.num_lookback_steps,\n",
        "    normalize_stats=normalize_stats,\n",
        ")\n",
        "model = stable_ar.StableARModel(conf=model_config)\n",
        "\n",
        "# Trainer\n",
        "trainer_config = stable_ar.StableARTrainerConfig(\n",
        "    rollout_weighting=choices.RolloutWeighting(\n",
        "        config.rollout_weighting\n",
        "    ).dispatch(config),\n",
        "    num_rollout_steps=config.num_rollout_steps,\n",
        "    num_lookback_steps=config.num_lookback_steps,\n",
        "    add_noise=config.add_noise,\n",
        "    use_curriculum=config.use_curriculum,\n",
        "    train_steps_per_cycle=config.train_steps_per_cycle,\n",
        "    time_steps_increase_per_cycle=config.time_steps_increase_per_cycle,\n",
        ")\n",
        "trainer = stable_ar.StableARTrainer(\n",
        "    model=model,\n",
        "    conf=trainer_config,\n",
        "    rng=jax.random.PRNGKey(config.seed),\n",
        "    optimizer=optimizer,\n",
        ")\n",
        "\n",
        "# Setup checkpointing\n",
        "ckpt_options = checkpoint.CheckpointManagerOptions(\n",
        "    save_interval_steps=config.save_interval_steps,\n",
        "    max_to_keep=config.max_checkpoints_to_keep,\n",
        ")\n",
        "# Run train\n",
        "train.run(\n",
        "    train_dataloader=train_loader,\n",
        "    eval_dataloader=eval_loader,\n",
        "    eval_every_steps=config.save_interval_steps,\n",
        "    num_batches_per_eval=1,\n",
        "    trainer=trainer,\n",
        "    workdir=workdir,\n",
        "    total_train_steps=config.train_steps,\n",
        "    metric_aggregation_steps=config.metric_aggregation_steps,\n",
        "    callbacks=[\n",
        "        callbacks.TrainStateCheckpoint(\n",
        "            base_dir=workdir,\n",
        "            options=ckpt_options,\n",
        "        ),\n",
        "        callbacks.ProgressReport(\n",
        "            num_train_steps=config.train_steps,\n",
        "        ),\n",
        "        callbacks.TqdmProgressBar(\n",
        "            total_train_steps=config.train_steps,\n",
        "            train_monitors=[\"rollout\", \"loss\", \"measure_dist\", \"measure_dist_k\", \"max_rollout_decay\"],\n",
        "            eval_monitors=[\"sd\"],\n",
        "        ),\n",
        "        fig_callback_cls()\n",
        "    ],\n",
        ")"
      ]
    },
    {
      "cell_type": "code",
      "execution_count": null,
      "metadata": {
        "id": "-8lZXGG4wFks"
      },
      "outputs": [],
      "source": [
      ]
    }
  ],
  "metadata": {
    "colab": {
      "collapsed_sections": [
        "d_9f5Fwifhd9"
      ],
      "last_runtime": {
        "build_target": "//learning/deepmind/dm_python:dm_notebook3_tpu",
        "kind": "private"
      },
      "private_outputs": true,
      "provenance": [
        {
          "file_id": "103il42-4cfqHjklUppSr-c-1yAZTNuk1",
          "timestamp": 1691166805700
        }
      ]
    },
    "kernelspec": {
      "display_name": "Python 3",
      "name": "python3"
    },
    "language_info": {
      "name": "python"
    }
  },
  "nbformat": 4,
  "nbformat_minor": 0
}
